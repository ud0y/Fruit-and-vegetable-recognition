{
 "cells": [
  {
   "cell_type": "code",
   "execution_count": 9,
   "id": "f5659ae1",
   "metadata": {},
   "outputs": [],
   "source": [
    "from pathlib import Path\n",
    "from rembg import remove, new_session\n",
    "\n",
    "session = new_session()\n",
    "\n",
    "def raw2png(folderName):\n",
    "    for file in Path('./Selected Raw/'+folderName).glob('*.jpg'):\n",
    "        input_path = str(file)\n",
    "        output_path = str(\"./Test png/\"+folderName+'/'+file.stem+'.png')\n",
    "        \n",
    "        try:\n",
    "            # creating a folder named data\n",
    "            if not os.path.exists('./Test png/'+folderName):\n",
    "                os.makedirs('./Test png/'+folderName)\n",
    "\n",
    "        # if not created then raise error\n",
    "        except OSError:\n",
    "            print ('Error: Creating directory of data')\n",
    "\n",
    "        with open(input_path, 'rb') as i:\n",
    "            with open(output_path, 'wb') as o:\n",
    "                input = i.read()\n",
    "                output = remove(input, session=session)\n",
    "                o.write(output)"
   ]
  },
  {
   "cell_type": "code",
   "execution_count": 7,
   "id": "ddf749f8",
   "metadata": {},
   "outputs": [
    {
     "data": {
      "text/plain": [
       "['Banana (green)',\n",
       " 'Lemon (green)',\n",
       " 'Papaya (green)',\n",
       " 'Pointed gourd',\n",
       " 'Sapodilla']"
      ]
     },
     "execution_count": 7,
     "metadata": {},
     "output_type": "execute_result"
    }
   ],
   "source": [
    "folders = os.listdir('./Selected Raw')\n",
    "folders"
   ]
  },
  {
   "cell_type": "code",
   "execution_count": 10,
   "id": "e2bb461d",
   "metadata": {},
   "outputs": [
    {
     "name": "stdout",
     "output_type": "stream",
     "text": [
      "Banana (green) -> Done..\n",
      "Lemon (green) -> Done..\n",
      "Papaya (green) -> Done..\n",
      "Pointed gourd -> Done..\n",
      "Sapodilla -> Done..\n"
     ]
    }
   ],
   "source": [
    "import os\n",
    "\n",
    "folders = os.listdir('./Selected Raw')\n",
    "for folder in folders:\n",
    "    raw2png(folder)\n",
    "    print(folder + ' -> Done..')"
   ]
  },
  {
   "cell_type": "code",
   "execution_count": 15,
   "id": "ec69b1fb",
   "metadata": {},
   "outputs": [
    {
     "data": {
      "text/plain": [
       "['Banana (green)',\n",
       " 'Lemon (green)',\n",
       " 'Papaya (green)',\n",
       " 'Pointed gourd',\n",
       " 'Sapodilla']"
      ]
     },
     "execution_count": 15,
     "metadata": {},
     "output_type": "execute_result"
    }
   ],
   "source": [
    "folders = os.listdir('./Testpng')\n",
    "folders"
   ]
  },
  {
   "cell_type": "code",
   "execution_count": 1,
   "id": "a511ad2d",
   "metadata": {},
   "outputs": [],
   "source": [
    "from pathlib import Path\n",
    "from PIL import Image\n",
    "import os\n",
    "\n",
    "def addWhiteBG(folderPath):\n",
    "    for file in Path(folderPath).glob('*.png'):\n",
    "        folderName = str(file.parent).split('\\\\')[-1]\n",
    "        try:\n",
    "            # creating a folder named data\n",
    "            if not os.path.exists('./test-bgWhite/'+folderName):\n",
    "                os.makedirs('./test-bgWhite/'+folderName)\n",
    "\n",
    "        # if not created then raise error\n",
    "        except OSError:\n",
    "            print ('Error: Creating directory of data')\n",
    "        \n",
    "        im = Image.open(r''+str(file))\n",
    "\n",
    "        fill_color = (255,255,255)  # White background\n",
    "\n",
    "        im = im.convert(\"RGBA\")   # it had mode P after DL it from OP\n",
    "        if im.mode in ('RGBA', 'LA'):\n",
    "            background = Image.new(im.mode[:-1], im.size, fill_color)\n",
    "            background.paste(im, im.split()[-1]) # omit transparency\n",
    "            im = background\n",
    "\n",
    "        im.convert(\"RGB\").save(r''+'./test-bgWhite/'+folderName+'/'+str(file.stem)+\".jpg\")"
   ]
  },
  {
   "cell_type": "code",
   "execution_count": 2,
   "id": "4259841a",
   "metadata": {},
   "outputs": [
    {
     "name": "stdout",
     "output_type": "stream",
     "text": [
      "./test-croped/Banana (green) -> Done...\n",
      "./test-croped/Lemon (green) -> Done...\n",
      "./test-croped/Papaya (green) -> Done...\n",
      "./test-croped/Pointed gourd -> Done...\n",
      "./test-croped/Sapodilla -> Done...\n"
     ]
    }
   ],
   "source": [
    "import os\n",
    "\n",
    "folders = os.listdir('./test-croped')\n",
    "for folder in folders:\n",
    "    addWhiteBG(\"./test-croped/\"+folder)\n",
    "    print(\"./test-croped/\"+folder + ' -> Done...')"
   ]
  },
  {
   "cell_type": "code",
   "execution_count": 3,
   "id": "0fd4cce5",
   "metadata": {},
   "outputs": [],
   "source": [
    "from PIL import Image\n",
    "from pathlib import Path\n",
    "\n",
    "def ImageResize(folderPath):\n",
    "    for file in Path(folderPath).glob('*.jpg'):\n",
    "        folderName = str(file.parent).split('\\\\')[-1]\n",
    "        try:\n",
    "            # creating a folder named data\n",
    "            if not os.path.exists('./test-data/'+folderName):\n",
    "                os.makedirs('./test-data/'+folderName)\n",
    "\n",
    "        # if not created then raise error\n",
    "        except OSError:\n",
    "            print ('Error: Creating directory of data')\n",
    "    \n",
    "        #read the image\n",
    "        im = Image.open(str(file))\n",
    "\n",
    "        #image size\n",
    "        size = (100,100)\n",
    "        #box = (0,0,0,0)\n",
    "        #resize image\n",
    "        out = im.resize(size)\n",
    "        #save resized image\n",
    "        out.save('./test-data/'+folderName+'/'+str(file.stem)+\".jpg\")"
   ]
  },
  {
   "cell_type": "code",
   "execution_count": 4,
   "id": "974dbd6e",
   "metadata": {},
   "outputs": [
    {
     "name": "stdout",
     "output_type": "stream",
     "text": [
      "./test-bgWhite/Banana (green) -> Done....\n",
      "./test-bgWhite/Lemon (green) -> Done....\n",
      "./test-bgWhite/Papaya (green) -> Done....\n",
      "./test-bgWhite/Pointed gourd -> Done....\n",
      "./test-bgWhite/Sapodilla -> Done....\n"
     ]
    }
   ],
   "source": [
    "import os\n",
    "\n",
    "folders = os.listdir('./test-bgWhite')\n",
    "for folder in folders:\n",
    "    ImageResize(\"./test-bgWhite/\"+folder)\n",
    "    print(\"./test-bgWhite/\" + folder + ' -> Done....')"
   ]
  },
  {
   "cell_type": "code",
   "execution_count": null,
   "id": "254a30b0",
   "metadata": {},
   "outputs": [],
   "source": []
  }
 ],
 "metadata": {
  "kernelspec": {
   "display_name": "Python 3 (ipykernel)",
   "language": "python",
   "name": "python3"
  },
  "language_info": {
   "codemirror_mode": {
    "name": "ipython",
    "version": 3
   },
   "file_extension": ".py",
   "mimetype": "text/x-python",
   "name": "python",
   "nbconvert_exporter": "python",
   "pygments_lexer": "ipython3",
   "version": "3.9.12"
  }
 },
 "nbformat": 4,
 "nbformat_minor": 5
}
